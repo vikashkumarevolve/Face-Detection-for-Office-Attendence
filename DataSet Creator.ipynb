{
 "cells": [
  {
   "cell_type": "code",
   "execution_count": 1,
   "metadata": {},
   "outputs": [
    {
     "name": "stdout",
     "output_type": "stream",
     "text": [
      "Enter User ID:108108\n"
     ]
    }
   ],
   "source": [
    "import cv2\n",
    "import numpy as np\n",
    "faceDetect =cv2.CascadeClassifier('C:/Users/vikas/Desktop/haar-cascade-files-master/haarcascade_frontalface_default.xml')\n",
    "\n",
    "\n",
    "cam=cv2.VideoCapture(0)\n",
    "\n",
    "id = input('Enter User ID:')\n",
    "count=0\n",
    "\n",
    "while True:\n",
    "    ret,img =cam.read()\n",
    "    gray= cv2.cvtColor(img,cv2.COLOR_BGR2GRAY)\n",
    "    faces = faceDetect.detectMultiScale(gray,1.3,5)\n",
    "\n",
    "    for(x,y,w,h) in faces:\n",
    "        count=count+1\n",
    "        cv2.imwrite('C:/Python/FaceDetection Program/Image Data/. '+str(id)+' . '+str(count)+'.jpg',gray[y:y+h,x:x+w])\n",
    "        \n",
    "        cv2.rectangle(img,(x,y),(x+w,y+h),(0,255,0),2)\n",
    "        cv2.waitKey(10)\n",
    "    cv2.imshow('Face',img)\n",
    "    \n",
    "\n",
    "    if (cv2.waitKey(1) == 13 or count == 30):\n",
    "        break\n",
    "cam.release()\n",
    "cv2.destroyAllWindows()\n"
   ]
  },
  {
   "cell_type": "code",
   "execution_count": null,
   "metadata": {},
   "outputs": [],
   "source": []
  },
  {
   "cell_type": "code",
   "execution_count": null,
   "metadata": {},
   "outputs": [],
   "source": []
  },
  {
   "cell_type": "code",
   "execution_count": null,
   "metadata": {},
   "outputs": [],
   "source": []
  }
 ],
 "metadata": {
  "kernelspec": {
   "display_name": "Python 3",
   "language": "python",
   "name": "python3"
  },
  "language_info": {
   "codemirror_mode": {
    "name": "ipython",
    "version": 3
   },
   "file_extension": ".py",
   "mimetype": "text/x-python",
   "name": "python",
   "nbconvert_exporter": "python",
   "pygments_lexer": "ipython3",
   "version": "3.7.6"
  }
 },
 "nbformat": 4,
 "nbformat_minor": 4
}
