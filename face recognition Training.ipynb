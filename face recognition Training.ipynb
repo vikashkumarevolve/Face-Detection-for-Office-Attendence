{
 "cells": [
  {
   "cell_type": "code",
   "execution_count": 1,
   "metadata": {},
   "outputs": [],
   "source": [
    "import cv2\n",
    "import os\n",
    "import numpy as np\n",
    "import PIL as Image"
   ]
  },
  {
   "cell_type": "code",
   "execution_count": 2,
   "metadata": {},
   "outputs": [
    {
     "name": "stdout",
     "output_type": "stream",
     "text": [
      "['C:/Python/FaceDetection Program/Image Data\\\\. 000632 . 1.jpg', 'C:/Python/FaceDetection Program/Image Data\\\\. 000632 . 10.jpg', 'C:/Python/FaceDetection Program/Image Data\\\\. 000632 . 11.jpg', 'C:/Python/FaceDetection Program/Image Data\\\\. 000632 . 12.jpg', 'C:/Python/FaceDetection Program/Image Data\\\\. 000632 . 13.jpg', 'C:/Python/FaceDetection Program/Image Data\\\\. 000632 . 14.jpg', 'C:/Python/FaceDetection Program/Image Data\\\\. 000632 . 15.jpg', 'C:/Python/FaceDetection Program/Image Data\\\\. 000632 . 16.jpg', 'C:/Python/FaceDetection Program/Image Data\\\\. 000632 . 17.jpg', 'C:/Python/FaceDetection Program/Image Data\\\\. 000632 . 18.jpg', 'C:/Python/FaceDetection Program/Image Data\\\\. 000632 . 19.jpg', 'C:/Python/FaceDetection Program/Image Data\\\\. 000632 . 2.jpg', 'C:/Python/FaceDetection Program/Image Data\\\\. 000632 . 20.jpg', 'C:/Python/FaceDetection Program/Image Data\\\\. 000632 . 21.jpg', 'C:/Python/FaceDetection Program/Image Data\\\\. 000632 . 22.jpg', 'C:/Python/FaceDetection Program/Image Data\\\\. 000632 . 23.jpg', 'C:/Python/FaceDetection Program/Image Data\\\\. 000632 . 24.jpg', 'C:/Python/FaceDetection Program/Image Data\\\\. 000632 . 25.jpg', 'C:/Python/FaceDetection Program/Image Data\\\\. 000632 . 26.jpg', 'C:/Python/FaceDetection Program/Image Data\\\\. 000632 . 27.jpg', 'C:/Python/FaceDetection Program/Image Data\\\\. 000632 . 28.jpg', 'C:/Python/FaceDetection Program/Image Data\\\\. 000632 . 29.jpg', 'C:/Python/FaceDetection Program/Image Data\\\\. 000632 . 3.jpg', 'C:/Python/FaceDetection Program/Image Data\\\\. 000632 . 30.jpg', 'C:/Python/FaceDetection Program/Image Data\\\\. 000632 . 4.jpg', 'C:/Python/FaceDetection Program/Image Data\\\\. 000632 . 5.jpg', 'C:/Python/FaceDetection Program/Image Data\\\\. 000632 . 6.jpg', 'C:/Python/FaceDetection Program/Image Data\\\\. 000632 . 7.jpg', 'C:/Python/FaceDetection Program/Image Data\\\\. 000632 . 8.jpg', 'C:/Python/FaceDetection Program/Image Data\\\\. 000632 . 9.jpg', 'C:/Python/FaceDetection Program/Image Data\\\\. 047317 . 1.jpg', 'C:/Python/FaceDetection Program/Image Data\\\\. 047317 . 10.jpg', 'C:/Python/FaceDetection Program/Image Data\\\\. 047317 . 11.jpg', 'C:/Python/FaceDetection Program/Image Data\\\\. 047317 . 12.jpg', 'C:/Python/FaceDetection Program/Image Data\\\\. 047317 . 13.jpg', 'C:/Python/FaceDetection Program/Image Data\\\\. 047317 . 14.jpg', 'C:/Python/FaceDetection Program/Image Data\\\\. 047317 . 15.jpg', 'C:/Python/FaceDetection Program/Image Data\\\\. 047317 . 16.jpg', 'C:/Python/FaceDetection Program/Image Data\\\\. 047317 . 17.jpg', 'C:/Python/FaceDetection Program/Image Data\\\\. 047317 . 18.jpg', 'C:/Python/FaceDetection Program/Image Data\\\\. 047317 . 19.jpg', 'C:/Python/FaceDetection Program/Image Data\\\\. 047317 . 2.jpg', 'C:/Python/FaceDetection Program/Image Data\\\\. 047317 . 20.jpg', 'C:/Python/FaceDetection Program/Image Data\\\\. 047317 . 21.jpg', 'C:/Python/FaceDetection Program/Image Data\\\\. 047317 . 22.jpg', 'C:/Python/FaceDetection Program/Image Data\\\\. 047317 . 23.jpg', 'C:/Python/FaceDetection Program/Image Data\\\\. 047317 . 24.jpg', 'C:/Python/FaceDetection Program/Image Data\\\\. 047317 . 25.jpg', 'C:/Python/FaceDetection Program/Image Data\\\\. 047317 . 26.jpg', 'C:/Python/FaceDetection Program/Image Data\\\\. 047317 . 27.jpg', 'C:/Python/FaceDetection Program/Image Data\\\\. 047317 . 28.jpg', 'C:/Python/FaceDetection Program/Image Data\\\\. 047317 . 29.jpg', 'C:/Python/FaceDetection Program/Image Data\\\\. 047317 . 3.jpg', 'C:/Python/FaceDetection Program/Image Data\\\\. 047317 . 30.jpg', 'C:/Python/FaceDetection Program/Image Data\\\\. 047317 . 4.jpg', 'C:/Python/FaceDetection Program/Image Data\\\\. 047317 . 5.jpg', 'C:/Python/FaceDetection Program/Image Data\\\\. 047317 . 6.jpg', 'C:/Python/FaceDetection Program/Image Data\\\\. 047317 . 7.jpg', 'C:/Python/FaceDetection Program/Image Data\\\\. 047317 . 8.jpg', 'C:/Python/FaceDetection Program/Image Data\\\\. 047317 . 9.jpg', 'C:/Python/FaceDetection Program/Image Data\\\\. 108108 . 1.jpg', 'C:/Python/FaceDetection Program/Image Data\\\\. 108108 . 10.jpg', 'C:/Python/FaceDetection Program/Image Data\\\\. 108108 . 11.jpg', 'C:/Python/FaceDetection Program/Image Data\\\\. 108108 . 12.jpg', 'C:/Python/FaceDetection Program/Image Data\\\\. 108108 . 13.jpg', 'C:/Python/FaceDetection Program/Image Data\\\\. 108108 . 14.jpg', 'C:/Python/FaceDetection Program/Image Data\\\\. 108108 . 15.jpg', 'C:/Python/FaceDetection Program/Image Data\\\\. 108108 . 16.jpg', 'C:/Python/FaceDetection Program/Image Data\\\\. 108108 . 17.jpg', 'C:/Python/FaceDetection Program/Image Data\\\\. 108108 . 18.jpg', 'C:/Python/FaceDetection Program/Image Data\\\\. 108108 . 19.jpg', 'C:/Python/FaceDetection Program/Image Data\\\\. 108108 . 2.jpg', 'C:/Python/FaceDetection Program/Image Data\\\\. 108108 . 20.jpg', 'C:/Python/FaceDetection Program/Image Data\\\\. 108108 . 21.jpg', 'C:/Python/FaceDetection Program/Image Data\\\\. 108108 . 22.jpg', 'C:/Python/FaceDetection Program/Image Data\\\\. 108108 . 23.jpg', 'C:/Python/FaceDetection Program/Image Data\\\\. 108108 . 24.jpg', 'C:/Python/FaceDetection Program/Image Data\\\\. 108108 . 25.jpg', 'C:/Python/FaceDetection Program/Image Data\\\\. 108108 . 26.jpg', 'C:/Python/FaceDetection Program/Image Data\\\\. 108108 . 27.jpg', 'C:/Python/FaceDetection Program/Image Data\\\\. 108108 . 28.jpg', 'C:/Python/FaceDetection Program/Image Data\\\\. 108108 . 29.jpg', 'C:/Python/FaceDetection Program/Image Data\\\\. 108108 . 3.jpg', 'C:/Python/FaceDetection Program/Image Data\\\\. 108108 . 30.jpg', 'C:/Python/FaceDetection Program/Image Data\\\\. 108108 . 4.jpg', 'C:/Python/FaceDetection Program/Image Data\\\\. 108108 . 5.jpg', 'C:/Python/FaceDetection Program/Image Data\\\\. 108108 . 6.jpg', 'C:/Python/FaceDetection Program/Image Data\\\\. 108108 . 7.jpg', 'C:/Python/FaceDetection Program/Image Data\\\\. 108108 . 8.jpg', 'C:/Python/FaceDetection Program/Image Data\\\\. 108108 . 9.jpg', 'C:/Python/FaceDetection Program/Image Data\\\\. 269029 . 1.jpg', 'C:/Python/FaceDetection Program/Image Data\\\\. 269029 . 10.jpg', 'C:/Python/FaceDetection Program/Image Data\\\\. 269029 . 11.jpg', 'C:/Python/FaceDetection Program/Image Data\\\\. 269029 . 12.jpg', 'C:/Python/FaceDetection Program/Image Data\\\\. 269029 . 13.jpg', 'C:/Python/FaceDetection Program/Image Data\\\\. 269029 . 14.jpg', 'C:/Python/FaceDetection Program/Image Data\\\\. 269029 . 15.jpg', 'C:/Python/FaceDetection Program/Image Data\\\\. 269029 . 16.jpg', 'C:/Python/FaceDetection Program/Image Data\\\\. 269029 . 17.jpg', 'C:/Python/FaceDetection Program/Image Data\\\\. 269029 . 18.jpg', 'C:/Python/FaceDetection Program/Image Data\\\\. 269029 . 19.jpg', 'C:/Python/FaceDetection Program/Image Data\\\\. 269029 . 2.jpg', 'C:/Python/FaceDetection Program/Image Data\\\\. 269029 . 20.jpg', 'C:/Python/FaceDetection Program/Image Data\\\\. 269029 . 21.jpg', 'C:/Python/FaceDetection Program/Image Data\\\\. 269029 . 22.jpg', 'C:/Python/FaceDetection Program/Image Data\\\\. 269029 . 23.jpg', 'C:/Python/FaceDetection Program/Image Data\\\\. 269029 . 24.jpg', 'C:/Python/FaceDetection Program/Image Data\\\\. 269029 . 25.jpg', 'C:/Python/FaceDetection Program/Image Data\\\\. 269029 . 26.jpg', 'C:/Python/FaceDetection Program/Image Data\\\\. 269029 . 27.jpg', 'C:/Python/FaceDetection Program/Image Data\\\\. 269029 . 28.jpg', 'C:/Python/FaceDetection Program/Image Data\\\\. 269029 . 29.jpg', 'C:/Python/FaceDetection Program/Image Data\\\\. 269029 . 3.jpg', 'C:/Python/FaceDetection Program/Image Data\\\\. 269029 . 30.jpg', 'C:/Python/FaceDetection Program/Image Data\\\\. 269029 . 4.jpg', 'C:/Python/FaceDetection Program/Image Data\\\\. 269029 . 5.jpg', 'C:/Python/FaceDetection Program/Image Data\\\\. 269029 . 6.jpg', 'C:/Python/FaceDetection Program/Image Data\\\\. 269029 . 7.jpg', 'C:/Python/FaceDetection Program/Image Data\\\\. 269029 . 8.jpg', 'C:/Python/FaceDetection Program/Image Data\\\\. 269029 . 9.jpg', 'C:/Python/FaceDetection Program/Image Data\\\\. 275680 . 1.jpg', 'C:/Python/FaceDetection Program/Image Data\\\\. 275680 . 10.jpg', 'C:/Python/FaceDetection Program/Image Data\\\\. 275680 . 11.jpg', 'C:/Python/FaceDetection Program/Image Data\\\\. 275680 . 12.jpg', 'C:/Python/FaceDetection Program/Image Data\\\\. 275680 . 13.jpg', 'C:/Python/FaceDetection Program/Image Data\\\\. 275680 . 14.jpg', 'C:/Python/FaceDetection Program/Image Data\\\\. 275680 . 15.jpg', 'C:/Python/FaceDetection Program/Image Data\\\\. 275680 . 16.jpg', 'C:/Python/FaceDetection Program/Image Data\\\\. 275680 . 17.jpg', 'C:/Python/FaceDetection Program/Image Data\\\\. 275680 . 18.jpg', 'C:/Python/FaceDetection Program/Image Data\\\\. 275680 . 19.jpg', 'C:/Python/FaceDetection Program/Image Data\\\\. 275680 . 2.jpg', 'C:/Python/FaceDetection Program/Image Data\\\\. 275680 . 20.jpg', 'C:/Python/FaceDetection Program/Image Data\\\\. 275680 . 21.jpg', 'C:/Python/FaceDetection Program/Image Data\\\\. 275680 . 22.jpg', 'C:/Python/FaceDetection Program/Image Data\\\\. 275680 . 23.jpg', 'C:/Python/FaceDetection Program/Image Data\\\\. 275680 . 24.jpg', 'C:/Python/FaceDetection Program/Image Data\\\\. 275680 . 25.jpg', 'C:/Python/FaceDetection Program/Image Data\\\\. 275680 . 26.jpg', 'C:/Python/FaceDetection Program/Image Data\\\\. 275680 . 27.jpg', 'C:/Python/FaceDetection Program/Image Data\\\\. 275680 . 28.jpg', 'C:/Python/FaceDetection Program/Image Data\\\\. 275680 . 29.jpg', 'C:/Python/FaceDetection Program/Image Data\\\\. 275680 . 3.jpg', 'C:/Python/FaceDetection Program/Image Data\\\\. 275680 . 30.jpg', 'C:/Python/FaceDetection Program/Image Data\\\\. 275680 . 4.jpg', 'C:/Python/FaceDetection Program/Image Data\\\\. 275680 . 5.jpg', 'C:/Python/FaceDetection Program/Image Data\\\\. 275680 . 6.jpg', 'C:/Python/FaceDetection Program/Image Data\\\\. 275680 . 7.jpg', 'C:/Python/FaceDetection Program/Image Data\\\\. 275680 . 8.jpg', 'C:/Python/FaceDetection Program/Image Data\\\\. 275680 . 9.jpg', 'C:/Python/FaceDetection Program/Image Data\\\\. 277192 . 1.jpg', 'C:/Python/FaceDetection Program/Image Data\\\\. 277192 . 10.jpg', 'C:/Python/FaceDetection Program/Image Data\\\\. 277192 . 11.jpg', 'C:/Python/FaceDetection Program/Image Data\\\\. 277192 . 12.jpg', 'C:/Python/FaceDetection Program/Image Data\\\\. 277192 . 13.jpg', 'C:/Python/FaceDetection Program/Image Data\\\\. 277192 . 14.jpg', 'C:/Python/FaceDetection Program/Image Data\\\\. 277192 . 15.jpg', 'C:/Python/FaceDetection Program/Image Data\\\\. 277192 . 16.jpg', 'C:/Python/FaceDetection Program/Image Data\\\\. 277192 . 17.jpg', 'C:/Python/FaceDetection Program/Image Data\\\\. 277192 . 18.jpg', 'C:/Python/FaceDetection Program/Image Data\\\\. 277192 . 19.jpg', 'C:/Python/FaceDetection Program/Image Data\\\\. 277192 . 2.jpg', 'C:/Python/FaceDetection Program/Image Data\\\\. 277192 . 20.jpg', 'C:/Python/FaceDetection Program/Image Data\\\\. 277192 . 21.jpg', 'C:/Python/FaceDetection Program/Image Data\\\\. 277192 . 22.jpg', 'C:/Python/FaceDetection Program/Image Data\\\\. 277192 . 23.jpg', 'C:/Python/FaceDetection Program/Image Data\\\\. 277192 . 24.jpg', 'C:/Python/FaceDetection Program/Image Data\\\\. 277192 . 25.jpg', 'C:/Python/FaceDetection Program/Image Data\\\\. 277192 . 26.jpg', 'C:/Python/FaceDetection Program/Image Data\\\\. 277192 . 27.jpg', 'C:/Python/FaceDetection Program/Image Data\\\\. 277192 . 28.jpg', 'C:/Python/FaceDetection Program/Image Data\\\\. 277192 . 29.jpg', 'C:/Python/FaceDetection Program/Image Data\\\\. 277192 . 3.jpg', 'C:/Python/FaceDetection Program/Image Data\\\\. 277192 . 30.jpg', 'C:/Python/FaceDetection Program/Image Data\\\\. 277192 . 4.jpg', 'C:/Python/FaceDetection Program/Image Data\\\\. 277192 . 5.jpg', 'C:/Python/FaceDetection Program/Image Data\\\\. 277192 . 6.jpg', 'C:/Python/FaceDetection Program/Image Data\\\\. 277192 . 7.jpg', 'C:/Python/FaceDetection Program/Image Data\\\\. 277192 . 8.jpg', 'C:/Python/FaceDetection Program/Image Data\\\\. 277192 . 9.jpg']\n"
     ]
    }
   ],
   "source": [
    "#recognizer = cv2.createLBPHFaceRecognizer()\n",
    "recognizer = cv2.face.LBPHFaceRecognizer_create()\n",
    "path ='C:/Python/FaceDetection Program/Image Data'\n",
    "\n",
    "\n",
    "def getImagesWithId(path):\n",
    "    imagePaths= [os.path.join(path,f) for f in os.listdir(path)]\n",
    "    print(imagePaths)\n",
    "    \n",
    "getImagesWithId(path)"
   ]
  },
  {
   "cell_type": "code",
   "execution_count": null,
   "metadata": {},
   "outputs": [],
   "source": []
  }
 ],
 "metadata": {
  "kernelspec": {
   "display_name": "Python 3",
   "language": "python",
   "name": "python3"
  },
  "language_info": {
   "codemirror_mode": {
    "name": "ipython",
    "version": 3
   },
   "file_extension": ".py",
   "mimetype": "text/x-python",
   "name": "python",
   "nbconvert_exporter": "python",
   "pygments_lexer": "ipython3",
   "version": "3.7.6"
  }
 },
 "nbformat": 4,
 "nbformat_minor": 4
}
